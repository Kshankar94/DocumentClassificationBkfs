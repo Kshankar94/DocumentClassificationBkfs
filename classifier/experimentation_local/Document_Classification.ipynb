{
 "cells": [
  {
   "cell_type": "code",
   "execution_count": 1,
   "metadata": {},
   "outputs": [
    {
     "data": {
      "text/plain": [
       "'\\nImport the dataset\\n\\nPerform NLP preprocessing\\n\\nApply ML models\\n\\nTraining/Testing/Hyperparameter tuning\\n\\n'"
      ]
     },
     "execution_count": 1,
     "metadata": {},
     "output_type": "execute_result"
    }
   ],
   "source": [
    "'''\n",
    "Import the dataset\n",
    "\n",
    "Perform NLP preprocessing\n",
    "\n",
    "Apply ML models\n",
    "\n",
    "Training/Testing/Hyperparameter tuning\n",
    "\n",
    "'''"
   ]
  },
  {
   "cell_type": "code",
   "execution_count": 21,
   "metadata": {},
   "outputs": [],
   "source": [
    "import pandas as pd\n",
    "import numpy as np\n",
    "\n",
    "from sklearn.model_selection import train_test_split\n",
    "from sklearn.feature_extraction.text import TfidfVectorizer\n",
    "from sklearn.metrics import confusion_matrix\n",
    "from sklearn import metrics\n",
    "from sklearn.svm import LinearSVC\n",
    "\n",
    "from sklearn.metrics import precision_recall_fscore_support\n",
    "\n",
    "from sklearn.naive_bayes import MultinomialNB\n",
    "from sklearn.linear_model import LogisticRegression\n",
    "from sklearn.ensemble import RandomForestClassifier\n",
    "\n",
    "from sklearn.model_selection import cross_val_score\n",
    "from sklearn.feature_extraction.text import CountVectorizer\n",
    "\n",
    "from sklearn.svm import SVC\n",
    "from sklearn.metrics import accuracy_score"
   ]
  },
  {
   "cell_type": "code",
   "execution_count": 22,
   "metadata": {},
   "outputs": [
    {
     "data": {
      "text/plain": [
       "count                                                 61709\n",
       "unique                                                59753\n",
       "top       bf064c332aa1 079935e500e5 1a4dd36c6de0 7efa289...\n",
       "freq                                                     11\n",
       "Name: document_text, dtype: object"
      ]
     },
     "execution_count": 22,
     "metadata": {},
     "output_type": "execute_result"
    }
   ],
   "source": [
    "df = pd.read_csv('dataset/input_train.csv')\n",
    "\n",
    "#add column title\n",
    "#add tsne later\n",
    "df.columns = ['document_label', 'document_text']\n",
    "df = df[pd.notnull(df['document_text'])]\n",
    "\n",
    "df.shape\n",
    "X = df['document_text']\n",
    "y = df['document_label']\n",
    "\n",
    "X.describe()"
   ]
  },
  {
   "cell_type": "code",
   "execution_count": 23,
   "metadata": {},
   "outputs": [
    {
     "name": "stdout",
     "output_type": "stream",
     "text": [
      "(61709, 1000)\n"
     ]
    }
   ],
   "source": [
    "#research more on this. \n",
    "# vectorizer = TfidfVectorizer(sublinear_tf=True, ngram_range=(1, 2), min_df = 1, max_df = 0.9, max_features = 5000)\n",
    "\n",
    "# vector_content = vectorizer.fit_transform(X.apply(lambda x: np.str_(x)))\n",
    "\n",
    "# print(vector_content.shape)\n",
    "\n",
    "vectorizer = CountVectorizer(ngram_range=(1,2), max_features=1000)\n",
    "vector_content = vectorizer.fit_transform(X.apply(lambda x: np.str_(x)))\n",
    "print(vector_content.shape)"
   ]
  },
  {
   "cell_type": "code",
   "execution_count": 25,
   "metadata": {},
   "outputs": [],
   "source": [
    "X_train, X_test, y_train, y_test = train_test_split(\n",
    "    vector_content, y, test_size=0.2, random_state=1)\n",
    "X_train, X_val, y_train, y_val = train_test_split(\n",
    "    X_train, y_train, test_size=0.25, random_state=1)"
   ]
  },
  {
   "cell_type": "code",
   "execution_count": 9,
   "metadata": {},
   "outputs": [],
   "source": [
    "# Handle null document_text columns\n",
    "# count_nan = len(df) - df.count()\n",
    "#print(df['document_text'].isna().sum())"
   ]
  },
  {
   "cell_type": "code",
   "execution_count": 14,
   "metadata": {},
   "outputs": [
    {
     "data": {
      "text/plain": [
       "SVC(C=1.0, cache_size=200, class_weight=None, coef0=0.0,\n",
       "  decision_function_shape='ovr', degree=3, gamma='scale', kernel='rbf',\n",
       "  max_iter=-1, probability=False, random_state=None, shrinking=True,\n",
       "  tol=0.001, verbose=False)"
      ]
     },
     "execution_count": 14,
     "metadata": {},
     "output_type": "execute_result"
    }
   ],
   "source": [
    "#import model\n",
    "svm_clf = SVC(gamma=\"scale\")\n",
    "svm_clf.fit(X_train[:30000], y_train[:30000])"
   ]
  },
  {
   "cell_type": "code",
   "execution_count": 24,
   "metadata": {},
   "outputs": [
    {
     "name": "stdout",
     "output_type": "stream",
     "text": [
      "(172, 2)\n"
     ]
    },
    {
     "ename": "PermissionError",
     "evalue": "[Errno 13] Permission denied: 'dataset/input_test_label.csv'",
     "output_type": "error",
     "traceback": [
      "\u001b[1;31m---------------------------------------------------------------------------\u001b[0m",
      "\u001b[1;31mPermissionError\u001b[0m                           Traceback (most recent call last)",
      "\u001b[1;32m<ipython-input-24-58e3db98bbcc>\u001b[0m in \u001b[0;36m<module>\u001b[1;34m\u001b[0m\n\u001b[0;32m     13\u001b[0m \u001b[0mdf_test\u001b[0m\u001b[1;33m.\u001b[0m\u001b[0mhead\u001b[0m\u001b[1;33m(\u001b[0m\u001b[1;33m)\u001b[0m\u001b[1;33m\u001b[0m\u001b[1;33m\u001b[0m\u001b[0m\n\u001b[0;32m     14\u001b[0m \u001b[1;33m\u001b[0m\u001b[0m\n\u001b[1;32m---> 15\u001b[1;33m \u001b[0mdf_test\u001b[0m\u001b[1;33m.\u001b[0m\u001b[0mto_csv\u001b[0m\u001b[1;33m(\u001b[0m\u001b[1;34mr'dataset/input_test_label.csv'\u001b[0m\u001b[1;33m,\u001b[0m \u001b[0mindex\u001b[0m \u001b[1;33m=\u001b[0m \u001b[1;32mFalse\u001b[0m\u001b[1;33m,\u001b[0m \u001b[0mencoding\u001b[0m\u001b[1;33m=\u001b[0m\u001b[1;34m'utf-8'\u001b[0m\u001b[1;33m)\u001b[0m\u001b[1;33m\u001b[0m\u001b[1;33m\u001b[0m\u001b[0m\n\u001b[0m",
      "\u001b[1;32mC:\\Python27\\lib\\site-packages\\pandas\\core\\generic.py\u001b[0m in \u001b[0;36mto_csv\u001b[1;34m(self, path_or_buf, sep, na_rep, float_format, columns, header, index, index_label, mode, encoding, compression, quoting, quotechar, line_terminator, chunksize, tupleize_cols, date_format, doublequote, escapechar, decimal)\u001b[0m\n\u001b[0;32m   3018\u001b[0m                                  \u001b[0mdoublequote\u001b[0m\u001b[1;33m=\u001b[0m\u001b[0mdoublequote\u001b[0m\u001b[1;33m,\u001b[0m\u001b[1;33m\u001b[0m\u001b[1;33m\u001b[0m\u001b[0m\n\u001b[0;32m   3019\u001b[0m                                  escapechar=escapechar, decimal=decimal)\n\u001b[1;32m-> 3020\u001b[1;33m         \u001b[0mformatter\u001b[0m\u001b[1;33m.\u001b[0m\u001b[0msave\u001b[0m\u001b[1;33m(\u001b[0m\u001b[1;33m)\u001b[0m\u001b[1;33m\u001b[0m\u001b[1;33m\u001b[0m\u001b[0m\n\u001b[0m\u001b[0;32m   3021\u001b[0m \u001b[1;33m\u001b[0m\u001b[0m\n\u001b[0;32m   3022\u001b[0m         \u001b[1;32mif\u001b[0m \u001b[0mpath_or_buf\u001b[0m \u001b[1;32mis\u001b[0m \u001b[1;32mNone\u001b[0m\u001b[1;33m:\u001b[0m\u001b[1;33m\u001b[0m\u001b[1;33m\u001b[0m\u001b[0m\n",
      "\u001b[1;32mC:\\Python27\\lib\\site-packages\\pandas\\io\\formats\\csvs.py\u001b[0m in \u001b[0;36msave\u001b[1;34m(self)\u001b[0m\n\u001b[0;32m    155\u001b[0m             f, handles = _get_handle(self.path_or_buf, self.mode,\n\u001b[0;32m    156\u001b[0m                                      \u001b[0mencoding\u001b[0m\u001b[1;33m=\u001b[0m\u001b[0mself\u001b[0m\u001b[1;33m.\u001b[0m\u001b[0mencoding\u001b[0m\u001b[1;33m,\u001b[0m\u001b[1;33m\u001b[0m\u001b[1;33m\u001b[0m\u001b[0m\n\u001b[1;32m--> 157\u001b[1;33m                                      compression=self.compression)\n\u001b[0m\u001b[0;32m    158\u001b[0m             \u001b[0mclose\u001b[0m \u001b[1;33m=\u001b[0m \u001b[1;32mTrue\u001b[0m\u001b[1;33m\u001b[0m\u001b[1;33m\u001b[0m\u001b[0m\n\u001b[0;32m    159\u001b[0m \u001b[1;33m\u001b[0m\u001b[0m\n",
      "\u001b[1;32mC:\\Python27\\lib\\site-packages\\pandas\\io\\common.py\u001b[0m in \u001b[0;36m_get_handle\u001b[1;34m(path_or_buf, mode, encoding, compression, memory_map, is_text)\u001b[0m\n\u001b[0;32m    422\u001b[0m         \u001b[1;32melif\u001b[0m \u001b[0mencoding\u001b[0m\u001b[1;33m:\u001b[0m\u001b[1;33m\u001b[0m\u001b[1;33m\u001b[0m\u001b[0m\n\u001b[0;32m    423\u001b[0m             \u001b[1;31m# Python 3 and encoding\u001b[0m\u001b[1;33m\u001b[0m\u001b[1;33m\u001b[0m\u001b[1;33m\u001b[0m\u001b[0m\n\u001b[1;32m--> 424\u001b[1;33m             \u001b[0mf\u001b[0m \u001b[1;33m=\u001b[0m \u001b[0mopen\u001b[0m\u001b[1;33m(\u001b[0m\u001b[0mpath_or_buf\u001b[0m\u001b[1;33m,\u001b[0m \u001b[0mmode\u001b[0m\u001b[1;33m,\u001b[0m \u001b[0mencoding\u001b[0m\u001b[1;33m=\u001b[0m\u001b[0mencoding\u001b[0m\u001b[1;33m,\u001b[0m \u001b[0mnewline\u001b[0m\u001b[1;33m=\u001b[0m\u001b[1;34m\"\"\u001b[0m\u001b[1;33m)\u001b[0m\u001b[1;33m\u001b[0m\u001b[1;33m\u001b[0m\u001b[0m\n\u001b[0m\u001b[0;32m    425\u001b[0m         \u001b[1;32melif\u001b[0m \u001b[0mis_text\u001b[0m\u001b[1;33m:\u001b[0m\u001b[1;33m\u001b[0m\u001b[1;33m\u001b[0m\u001b[0m\n\u001b[0;32m    426\u001b[0m             \u001b[1;31m# Python 3 and no explicit encoding\u001b[0m\u001b[1;33m\u001b[0m\u001b[1;33m\u001b[0m\u001b[1;33m\u001b[0m\u001b[0m\n",
      "\u001b[1;31mPermissionError\u001b[0m: [Errno 13] Permission denied: 'dataset/input_test_label.csv'"
     ]
    }
   ],
   "source": [
    "df_test = pd.read_csv('dataset/input_test_.csv')\n",
    "\n",
    "print(df_test.shape)\n",
    "#add column title\n",
    "#add tsne later\n",
    "df_test.columns = ['document_label', 'document_text']\n",
    "df_test = df_test[pd.notnull(df_test['document_text'])]\n",
    "\n",
    "df.shape\n",
    "X_t = df_test['document_text']\n",
    "y_t = df_test['document_label']\n",
    "\n",
    "df_test.head()\n",
    "\n",
    "df_test.to_csv(r'dataset/input_test_label.csv', index = False, encoding='utf-8')"
   ]
  },
  {
   "cell_type": "code",
   "execution_count": 26,
   "metadata": {},
   "outputs": [
    {
     "name": "stdout",
     "output_type": "stream",
     "text": [
      "(172,)\n",
      "(172, 1000)\n",
      "<class 'numpy.ndarray'>\n",
      "(0.12105263157894737, 0.13355973528387322, 0.08289246693502014, None)\n"
     ]
    }
   ],
   "source": [
    "df_label = pd.read_csv('dataset/input_test_label.csv')\n",
    "X_ = df_label['document_text']\n",
    "\n",
    "print(X_.shape)\n",
    "vectorize = CountVectorizer(ngram_range=(1,2), max_features=1000)\n",
    "vec_content = vectorize.fit_transform(X_.apply(lambda x: np.str_(x)))\n",
    "print(vec_content.shape)\n",
    "                                      \n",
    "y_t = df_label['document_label'].values.tolist()                                        \n",
    "y_label = svm_clf.predict(vec_content)   \n",
    "\n",
    "\n",
    "\n",
    "print(precision_recall_fscore_support(y_t, y_label, average='macro'))     "
   ]
  },
  {
   "cell_type": "code",
   "execution_count": 18,
   "metadata": {},
   "outputs": [
    {
     "name": "stdout",
     "output_type": "stream",
     "text": [
      "\t\t\t\tCLASSIFICATIION METRICS\n",
      "\n",
      "                         precision    recall  f1-score   support\n",
      "\n",
      "         RETURNED CHECK       0.81      0.29      0.43        45\n",
      "                   BILL       0.90      0.89      0.90      3706\n",
      "          POLICY CHANGE       0.40      0.04      0.07        55\n",
      "    CANCELLATION NOTICE       0.84      0.86      0.85      1780\n",
      "            DECLARATION       0.80      0.87      0.83      1929\n",
      "     CHANGE ENDORSEMENT       0.74      0.79      0.77       178\n",
      "     NON-RENEWAL NOTICE       0.57      0.18      0.28       193\n",
      "                 BINDER       0.90      0.89      0.89       972\n",
      "   REINSTATEMENT NOTICE       0.94      0.59      0.72       150\n",
      "   DELETION OF INTEREST       1.00      0.29      0.45        41\n",
      "      EXPIRATION NOTICE       0.94      0.70      0.80       113\n",
      "INTENT TO CANCEL NOTICE       0.78      0.86      0.82      2119\n",
      "            APPLICATION       0.92      0.91      0.92       896\n",
      "            BILL BINDER       0.98      0.75      0.85       165\n",
      "\n",
      "              micro avg       0.85      0.85      0.85     12342\n",
      "              macro avg       0.82      0.64      0.68     12342\n",
      "           weighted avg       0.85      0.85      0.85     12342\n",
      "\n"
     ]
    }
   ],
   "source": [
    "y_pred = svm_clf.predict(X_val)\n",
    "\n",
    "print('\\t\\t\\t\\tCLASSIFICATIION METRICS\\n')\n",
    "print(metrics.classification_report(y_val, y_pred, \n",
    "                                    target_names= df['document_label'].unique()))\n"
   ]
  },
  {
   "cell_type": "code",
   "execution_count": 19,
   "metadata": {},
   "outputs": [
    {
     "name": "stdout",
     "output_type": "stream",
     "text": [
      "(0.8232001016104897, 0.6355821553463901, 0.6830182780049482, None)\n",
      "(0.8224502012196832, 0.6332329502983584, 0.67518174611608, None)\n"
     ]
    }
   ],
   "source": [
    "print(precision_recall_fscore_support(y_val, y_pred, average='macro'))\n",
    "y_pred_test = svm_clf.predict(X_test)\n",
    "print(precision_recall_fscore_support(y_test, y_pred_test, average='macro'))"
   ]
  },
  {
   "cell_type": "code",
   "execution_count": 33,
   "metadata": {
    "scrolled": true
   },
   "outputs": [
    {
     "name": "stdout",
     "output_type": "stream",
     "text": [
      "nb validation\n",
      "(0.6151392326244579, 0.511907569886737, 0.5290077218212504, None)\n",
      "nb test\n",
      "(0.60008149782357, 0.5052661422389276, 0.5180007067518222, None)\n"
     ]
    },
    {
     "name": "stderr",
     "output_type": "stream",
     "text": [
      "C:\\Python27\\lib\\site-packages\\sklearn\\metrics\\classification.py:1143: UndefinedMetricWarning: Precision and F-score are ill-defined and being set to 0.0 in labels with no predicted samples.\n",
      "  'precision', 'predicted', average, warn_for)\n"
     ]
    },
    {
     "ename": "ValueError",
     "evalue": "dimension mismatch",
     "output_type": "error",
     "traceback": [
      "\u001b[1;31m---------------------------------------------------------------------------\u001b[0m",
      "\u001b[1;31mValueError\u001b[0m                                Traceback (most recent call last)",
      "\u001b[1;32m<ipython-input-33-ceddfb6eebbb>\u001b[0m in \u001b[0;36m<module>\u001b[1;34m\u001b[0m\n\u001b[0;32m     13\u001b[0m \u001b[0mprint\u001b[0m\u001b[1;33m(\u001b[0m\u001b[0mprecision_recall_fscore_support\u001b[0m\u001b[1;33m(\u001b[0m\u001b[0my_test\u001b[0m\u001b[1;33m,\u001b[0m \u001b[0my_pred_test_NB\u001b[0m\u001b[1;33m,\u001b[0m \u001b[0maverage\u001b[0m\u001b[1;33m=\u001b[0m\u001b[1;34m'macro'\u001b[0m\u001b[1;33m)\u001b[0m\u001b[1;33m)\u001b[0m\u001b[1;33m\u001b[0m\u001b[1;33m\u001b[0m\u001b[0m\n\u001b[0;32m     14\u001b[0m \u001b[1;33m\u001b[0m\u001b[0m\n\u001b[1;32m---> 15\u001b[1;33m \u001b[0mNB_pred\u001b[0m \u001b[1;33m=\u001b[0m \u001b[0mNB_classifier\u001b[0m\u001b[1;33m.\u001b[0m\u001b[0mpredict\u001b[0m\u001b[1;33m(\u001b[0m\u001b[0mvector_label\u001b[0m\u001b[1;33m)\u001b[0m\u001b[1;33m\u001b[0m\u001b[1;33m\u001b[0m\u001b[0m\n\u001b[0m\u001b[0;32m     16\u001b[0m \u001b[1;33m\u001b[0m\u001b[0m\n\u001b[0;32m     17\u001b[0m \u001b[0mprint\u001b[0m\u001b[1;33m(\u001b[0m\u001b[0mprecision_recall_fscore_support\u001b[0m\u001b[1;33m(\u001b[0m\u001b[0my_t\u001b[0m\u001b[1;33m,\u001b[0m \u001b[0mNB_pred\u001b[0m\u001b[1;33m,\u001b[0m \u001b[0maverage\u001b[0m\u001b[1;33m=\u001b[0m\u001b[1;34m'macro'\u001b[0m\u001b[1;33m)\u001b[0m\u001b[1;33m)\u001b[0m\u001b[1;33m\u001b[0m\u001b[1;33m\u001b[0m\u001b[0m\n",
      "\u001b[1;32mC:\\Python27\\lib\\site-packages\\sklearn\\naive_bayes.py\u001b[0m in \u001b[0;36mpredict\u001b[1;34m(self, X)\u001b[0m\n\u001b[0;32m     64\u001b[0m             \u001b[0mPredicted\u001b[0m \u001b[0mtarget\u001b[0m \u001b[0mvalues\u001b[0m \u001b[1;32mfor\u001b[0m \u001b[0mX\u001b[0m\u001b[1;33m\u001b[0m\u001b[1;33m\u001b[0m\u001b[0m\n\u001b[0;32m     65\u001b[0m         \"\"\"\n\u001b[1;32m---> 66\u001b[1;33m         \u001b[0mjll\u001b[0m \u001b[1;33m=\u001b[0m \u001b[0mself\u001b[0m\u001b[1;33m.\u001b[0m\u001b[0m_joint_log_likelihood\u001b[0m\u001b[1;33m(\u001b[0m\u001b[0mX\u001b[0m\u001b[1;33m)\u001b[0m\u001b[1;33m\u001b[0m\u001b[1;33m\u001b[0m\u001b[0m\n\u001b[0m\u001b[0;32m     67\u001b[0m         \u001b[1;32mreturn\u001b[0m \u001b[0mself\u001b[0m\u001b[1;33m.\u001b[0m\u001b[0mclasses_\u001b[0m\u001b[1;33m[\u001b[0m\u001b[0mnp\u001b[0m\u001b[1;33m.\u001b[0m\u001b[0margmax\u001b[0m\u001b[1;33m(\u001b[0m\u001b[0mjll\u001b[0m\u001b[1;33m,\u001b[0m \u001b[0maxis\u001b[0m\u001b[1;33m=\u001b[0m\u001b[1;36m1\u001b[0m\u001b[1;33m)\u001b[0m\u001b[1;33m]\u001b[0m\u001b[1;33m\u001b[0m\u001b[1;33m\u001b[0m\u001b[0m\n\u001b[0;32m     68\u001b[0m \u001b[1;33m\u001b[0m\u001b[0m\n",
      "\u001b[1;32mC:\\Python27\\lib\\site-packages\\sklearn\\naive_bayes.py\u001b[0m in \u001b[0;36m_joint_log_likelihood\u001b[1;34m(self, X)\u001b[0m\n\u001b[0;32m    729\u001b[0m \u001b[1;33m\u001b[0m\u001b[0m\n\u001b[0;32m    730\u001b[0m         \u001b[0mX\u001b[0m \u001b[1;33m=\u001b[0m \u001b[0mcheck_array\u001b[0m\u001b[1;33m(\u001b[0m\u001b[0mX\u001b[0m\u001b[1;33m,\u001b[0m \u001b[0maccept_sparse\u001b[0m\u001b[1;33m=\u001b[0m\u001b[1;34m'csr'\u001b[0m\u001b[1;33m)\u001b[0m\u001b[1;33m\u001b[0m\u001b[1;33m\u001b[0m\u001b[0m\n\u001b[1;32m--> 731\u001b[1;33m         return (safe_sparse_dot(X, self.feature_log_prob_.T) +\n\u001b[0m\u001b[0;32m    732\u001b[0m                 self.class_log_prior_)\n\u001b[0;32m    733\u001b[0m \u001b[1;33m\u001b[0m\u001b[0m\n",
      "\u001b[1;32mC:\\Python27\\lib\\site-packages\\sklearn\\utils\\extmath.py\u001b[0m in \u001b[0;36msafe_sparse_dot\u001b[1;34m(a, b, dense_output)\u001b[0m\n\u001b[0;32m    166\u001b[0m     \"\"\"\n\u001b[0;32m    167\u001b[0m     \u001b[1;32mif\u001b[0m \u001b[0msparse\u001b[0m\u001b[1;33m.\u001b[0m\u001b[0missparse\u001b[0m\u001b[1;33m(\u001b[0m\u001b[0ma\u001b[0m\u001b[1;33m)\u001b[0m \u001b[1;32mor\u001b[0m \u001b[0msparse\u001b[0m\u001b[1;33m.\u001b[0m\u001b[0missparse\u001b[0m\u001b[1;33m(\u001b[0m\u001b[0mb\u001b[0m\u001b[1;33m)\u001b[0m\u001b[1;33m:\u001b[0m\u001b[1;33m\u001b[0m\u001b[1;33m\u001b[0m\u001b[0m\n\u001b[1;32m--> 168\u001b[1;33m         \u001b[0mret\u001b[0m \u001b[1;33m=\u001b[0m \u001b[0ma\u001b[0m \u001b[1;33m*\u001b[0m \u001b[0mb\u001b[0m\u001b[1;33m\u001b[0m\u001b[1;33m\u001b[0m\u001b[0m\n\u001b[0m\u001b[0;32m    169\u001b[0m         \u001b[1;32mif\u001b[0m \u001b[0mdense_output\u001b[0m \u001b[1;32mand\u001b[0m \u001b[0mhasattr\u001b[0m\u001b[1;33m(\u001b[0m\u001b[0mret\u001b[0m\u001b[1;33m,\u001b[0m \u001b[1;34m\"toarray\"\u001b[0m\u001b[1;33m)\u001b[0m\u001b[1;33m:\u001b[0m\u001b[1;33m\u001b[0m\u001b[1;33m\u001b[0m\u001b[0m\n\u001b[0;32m    170\u001b[0m             \u001b[0mret\u001b[0m \u001b[1;33m=\u001b[0m \u001b[0mret\u001b[0m\u001b[1;33m.\u001b[0m\u001b[0mtoarray\u001b[0m\u001b[1;33m(\u001b[0m\u001b[1;33m)\u001b[0m\u001b[1;33m\u001b[0m\u001b[1;33m\u001b[0m\u001b[0m\n",
      "\u001b[1;32mC:\\Python27\\lib\\site-packages\\scipy\\sparse\\base.py\u001b[0m in \u001b[0;36m__mul__\u001b[1;34m(self, other)\u001b[0m\n\u001b[0;32m    516\u001b[0m \u001b[1;33m\u001b[0m\u001b[0m\n\u001b[0;32m    517\u001b[0m             \u001b[1;32mif\u001b[0m \u001b[0mother\u001b[0m\u001b[1;33m.\u001b[0m\u001b[0mshape\u001b[0m\u001b[1;33m[\u001b[0m\u001b[1;36m0\u001b[0m\u001b[1;33m]\u001b[0m \u001b[1;33m!=\u001b[0m \u001b[0mself\u001b[0m\u001b[1;33m.\u001b[0m\u001b[0mshape\u001b[0m\u001b[1;33m[\u001b[0m\u001b[1;36m1\u001b[0m\u001b[1;33m]\u001b[0m\u001b[1;33m:\u001b[0m\u001b[1;33m\u001b[0m\u001b[1;33m\u001b[0m\u001b[0m\n\u001b[1;32m--> 518\u001b[1;33m                 \u001b[1;32mraise\u001b[0m \u001b[0mValueError\u001b[0m\u001b[1;33m(\u001b[0m\u001b[1;34m'dimension mismatch'\u001b[0m\u001b[1;33m)\u001b[0m\u001b[1;33m\u001b[0m\u001b[1;33m\u001b[0m\u001b[0m\n\u001b[0m\u001b[0;32m    519\u001b[0m \u001b[1;33m\u001b[0m\u001b[0m\n\u001b[0;32m    520\u001b[0m             \u001b[0mresult\u001b[0m \u001b[1;33m=\u001b[0m \u001b[0mself\u001b[0m\u001b[1;33m.\u001b[0m\u001b[0m_mul_multivector\u001b[0m\u001b[1;33m(\u001b[0m\u001b[0mnp\u001b[0m\u001b[1;33m.\u001b[0m\u001b[0masarray\u001b[0m\u001b[1;33m(\u001b[0m\u001b[0mother\u001b[0m\u001b[1;33m)\u001b[0m\u001b[1;33m)\u001b[0m\u001b[1;33m\u001b[0m\u001b[1;33m\u001b[0m\u001b[0m\n",
      "\u001b[1;31mValueError\u001b[0m: dimension mismatch"
     ]
    }
   ],
   "source": [
    "#multinomialNB\n",
    "NB_classifier = MultinomialNB().fit(X_train, y_train)\n",
    "\n",
    "y_pred_val = NB_classifier.predict(X_val)\n",
    "y_pred_test_NB = NB_classifier.predict(X_test)\n",
    "\n",
    "\n",
    "print(\"nb validation\")\n",
    "print(precision_recall_fscore_support(y_val, y_pred_val, average='macro'))\n",
    "y_pred_test = svc_model.predict(X_test)\n",
    "\n",
    "print(\"nb test\")\n",
    "print(precision_recall_fscore_support(y_test, y_pred_test_NB, average='macro'))\n",
    "\n",
    "NB_pred = NB_classifier.predict(vector_label)\n",
    "\n",
    "print(precision_recall_fscore_support(y_t, NB_pred, average='macro'))\n"
   ]
  },
  {
   "cell_type": "code",
   "execution_count": 28,
   "metadata": {},
   "outputs": [
    {
     "name": "stdout",
     "output_type": "stream",
     "text": [
      "sgd validation\n",
      "(0.7073589509318385, 0.7146834157946996, 0.7079160774040733, None)\n",
      "sgd test\n",
      "(0.714710237645969, 0.7189450749033923, 0.7116436480378242, None)\n",
      "(0.16230837848552926, 0.07959383103061264, 0.062104400345125106, None)\n"
     ]
    },
    {
     "ename": "NameError",
     "evalue": "name 'sgd_mode' is not defined",
     "output_type": "error",
     "traceback": [
      "\u001b[1;31m---------------------------------------------------------------------------\u001b[0m",
      "\u001b[1;31mNameError\u001b[0m                                 Traceback (most recent call last)",
      "\u001b[1;32m<ipython-input-28-4e87c5283fb3>\u001b[0m in \u001b[0;36m<module>\u001b[1;34m\u001b[0m\n\u001b[0;32m     20\u001b[0m \u001b[0mprint\u001b[0m\u001b[1;33m(\u001b[0m\u001b[0mprecision_recall_fscore_support\u001b[0m\u001b[1;33m(\u001b[0m\u001b[0my_t\u001b[0m\u001b[1;33m,\u001b[0m \u001b[0my_lab\u001b[0m\u001b[1;33m,\u001b[0m \u001b[0maverage\u001b[0m\u001b[1;33m=\u001b[0m\u001b[1;34m'macro'\u001b[0m\u001b[1;33m)\u001b[0m\u001b[1;33m)\u001b[0m\u001b[1;33m\u001b[0m\u001b[1;33m\u001b[0m\u001b[0m\n\u001b[0;32m     21\u001b[0m \u001b[1;33m\u001b[0m\u001b[0m\n\u001b[1;32m---> 22\u001b[1;33m \u001b[0my_prob\u001b[0m \u001b[1;33m=\u001b[0m \u001b[0msgd_mode\u001b[0m\u001b[1;33m.\u001b[0m\u001b[0mpredict_proba\u001b[0m\u001b[1;33m(\u001b[0m\u001b[0mvec_content\u001b[0m\u001b[1;33m)\u001b[0m\u001b[1;33m\u001b[0m\u001b[1;33m\u001b[0m\u001b[0m\n\u001b[0m",
      "\u001b[1;31mNameError\u001b[0m: name 'sgd_mode' is not defined"
     ]
    }
   ],
   "source": [
    "#sgd classifier\n",
    "\n",
    "from sklearn.linear_model import SGDClassifier\n",
    "\n",
    "sgd_model = SGDClassifier(max_iter=1000, tol=1e-3)\n",
    "\n",
    "sgd_model.fit(X_train, y_train)\n",
    "\n",
    "y_pred_val_ = sgd_model.predict(X_val)\n",
    "y_pred_test_sgd = sgd_model.predict(X_test)\n",
    "\n",
    "print(\"sgd validation\")\n",
    "print(precision_recall_fscore_support(y_val, y_pred_val_, average='macro'))\n",
    "\n",
    "print(\"sgd test\")\n",
    "print(precision_recall_fscore_support(y_test, y_pred_test_sgd, average='macro'))\n",
    "\n",
    "                                      \n",
    "y_lab = sgd_model.predict(vec_content)\n",
    "print(precision_recall_fscore_support(y_t, y_lab, average='macro'))\n",
    "\n"
   ]
  },
  {
   "cell_type": "code",
   "execution_count": 31,
   "metadata": {},
   "outputs": [
    {
     "name": "stderr",
     "output_type": "stream",
     "text": [
      "C:\\Python27\\lib\\site-packages\\sklearn\\model_selection\\_split.py:2053: FutureWarning: You should specify a value for 'cv' instead of relying on the default value. The default value will change from 3 to 5 in version 0.22.\n",
      "  warnings.warn(CV_WARNING, FutureWarning)\n",
      "C:\\Python27\\lib\\site-packages\\sklearn\\calibration.py:445: RuntimeWarning: overflow encountered in exp\n",
      "  E = np.exp(AB[0] * F + AB[1])\n",
      "C:\\Python27\\lib\\site-packages\\sklearn\\calibration.py:455: RuntimeWarning: overflow encountered in exp\n",
      "  E = np.exp(AB[0] * F + AB[1])\n",
      "C:\\Python27\\lib\\site-packages\\sklearn\\calibration.py:457: RuntimeWarning: invalid value encountered in multiply\n",
      "  TEP_minus_T1P = P * (T * E - T1)\n",
      "C:\\Python27\\lib\\site-packages\\sklearn\\calibration.py:445: RuntimeWarning: overflow encountered in exp\n",
      "  E = np.exp(AB[0] * F + AB[1])\n",
      "C:\\Python27\\lib\\site-packages\\sklearn\\calibration.py:445: RuntimeWarning: overflow encountered in exp\n",
      "  E = np.exp(AB[0] * F + AB[1])\n",
      "C:\\Python27\\lib\\site-packages\\sklearn\\calibration.py:455: RuntimeWarning: overflow encountered in exp\n",
      "  E = np.exp(AB[0] * F + AB[1])\n",
      "C:\\Python27\\lib\\site-packages\\sklearn\\calibration.py:457: RuntimeWarning: invalid value encountered in multiply\n",
      "  TEP_minus_T1P = P * (T * E - T1)\n",
      "C:\\Python27\\lib\\site-packages\\sklearn\\calibration.py:445: RuntimeWarning: overflow encountered in exp\n",
      "  E = np.exp(AB[0] * F + AB[1])\n",
      "C:\\Python27\\lib\\site-packages\\sklearn\\calibration.py:445: RuntimeWarning: overflow encountered in exp\n",
      "  E = np.exp(AB[0] * F + AB[1])\n",
      "C:\\Python27\\lib\\site-packages\\sklearn\\calibration.py:455: RuntimeWarning: overflow encountered in exp\n",
      "  E = np.exp(AB[0] * F + AB[1])\n",
      "C:\\Python27\\lib\\site-packages\\sklearn\\calibration.py:457: RuntimeWarning: invalid value encountered in multiply\n",
      "  TEP_minus_T1P = P * (T * E - T1)\n",
      "C:\\Python27\\lib\\site-packages\\sklearn\\calibration.py:445: RuntimeWarning: overflow encountered in exp\n",
      "  E = np.exp(AB[0] * F + AB[1])\n",
      "C:\\Python27\\lib\\site-packages\\sklearn\\calibration.py:445: RuntimeWarning: overflow encountered in exp\n",
      "  E = np.exp(AB[0] * F + AB[1])\n",
      "C:\\Python27\\lib\\site-packages\\sklearn\\calibration.py:455: RuntimeWarning: overflow encountered in exp\n",
      "  E = np.exp(AB[0] * F + AB[1])\n",
      "C:\\Python27\\lib\\site-packages\\sklearn\\calibration.py:457: RuntimeWarning: invalid value encountered in multiply\n",
      "  TEP_minus_T1P = P * (T * E - T1)\n",
      "C:\\Python27\\lib\\site-packages\\sklearn\\calibration.py:445: RuntimeWarning: overflow encountered in exp\n",
      "  E = np.exp(AB[0] * F + AB[1])\n",
      "C:\\Python27\\lib\\site-packages\\sklearn\\calibration.py:445: RuntimeWarning: overflow encountered in exp\n",
      "  E = np.exp(AB[0] * F + AB[1])\n",
      "C:\\Python27\\lib\\site-packages\\sklearn\\calibration.py:455: RuntimeWarning: overflow encountered in exp\n",
      "  E = np.exp(AB[0] * F + AB[1])\n",
      "C:\\Python27\\lib\\site-packages\\sklearn\\calibration.py:457: RuntimeWarning: invalid value encountered in multiply\n",
      "  TEP_minus_T1P = P * (T * E - T1)\n",
      "C:\\Python27\\lib\\site-packages\\sklearn\\calibration.py:445: RuntimeWarning: overflow encountered in exp\n",
      "  E = np.exp(AB[0] * F + AB[1])\n"
     ]
    },
    {
     "name": "stdout",
     "output_type": "stream",
     "text": [
      "[[1.40417675e-04 5.51822178e-06 1.21975307e-03 ... 7.19739935e-01\n",
      "  1.28640691e-13 4.27355171e-11]\n",
      " [3.83588724e-03 2.04779910e-01 4.75819078e-03 ... 2.74965279e-01\n",
      "  8.45335563e-03 7.94807234e-03]\n",
      " [9.73392880e-04 1.60186277e-03 1.44607001e-03 ... 5.31583632e-01\n",
      "  3.87710233e-11 1.36754780e-01]\n",
      " ...\n",
      " [1.94649188e-04 2.35343558e-12 4.55010672e-04 ... 6.56475979e-01\n",
      "  1.12324467e-09 1.14495744e-04]\n",
      " [1.47437317e-03 3.72216623e-01 1.18252920e-03 ... 2.75043513e-01\n",
      "  8.25372493e-06 6.06518441e-04]\n",
      " [3.75072889e-03 8.80892834e-03 5.81214692e-03 ... 3.57546999e-01\n",
      "  3.51499822e-01 1.09222885e-02]]\n"
     ]
    }
   ],
   "source": [
    "from sklearn.calibration import CalibratedClassifierCV\n",
    "\n",
    "base_model = SGDClassifier(max_iter=1000, tol=1e-3)\n",
    "\n",
    "model = CalibratedClassifierCV(base_model)\n",
    "\n",
    "model.fit(X_train, y_train)"
   ]
  },
  {
   "cell_type": "code",
   "execution_count": 51,
   "metadata": {},
   "outputs": [
    {
     "name": "stdout",
     "output_type": "stream",
     "text": [
      "{\"instances\": [{\"prediction\": \"POLICY CHANGE\", \"confidence\": 0.00014041767502509517}, {\"prediction\": \"NON-RENEWAL NOTICE\", \"confidence\": 5.518221783687364e-06}, {\"prediction\": \"POLICY CHANGE\", \"confidence\": 0.0012197530728126462}, {\"prediction\": \"NON-RENEWAL NOTICE\", \"confidence\": 0.27486308410418864}, {\"prediction\": \"POLICY CHANGE\", \"confidence\": 1.08467438947817e-08}, {\"prediction\": \"POLICY CHANGE\", \"confidence\": 2.5722662217898785e-10}, {\"prediction\": \"POLICY CHANGE\", \"confidence\": 0.004016050130048857}, {\"prediction\": \"POLICY CHANGE\", \"confidence\": 7.248627178834506e-16}, {\"prediction\": \"POLICY CHANGE\", \"confidence\": 1.6945718011886534e-11}, {\"prediction\": \"BINDER\", \"confidence\": 1.1169796399533034e-05}, {\"prediction\": \"POLICY CHANGE\", \"confidence\": 4.0606774792341064e-06}, {\"prediction\": \"BINDER\", \"confidence\": 0.7197399351584813}, {\"prediction\": \"POLICY CHANGE\", \"confidence\": 1.286406914244251e-13}, {\"prediction\": \"POLICY CHANGE\", \"confidence\": 4.2735517116259546e-11}, {\"prediction\": \"POLICY CHANGE\", \"confidence\": 0.003835887243438032}, {\"prediction\": \"POLICY CHANGE\", \"confidence\": 0.20477991004888949}, {\"prediction\": \"BILL\", \"confidence\": 0.004758190783124582}, {\"prediction\": \"POLICY CHANGE\", \"confidence\": 0.04946473651790432}, {\"prediction\": \"POLICY CHANGE\", \"confidence\": 0.049927250007078476}, {\"prediction\": \"POLICY CHANGE\", \"confidence\": 0.001661829041639613}, {\"prediction\": \"POLICY CHANGE\", \"confidence\": 0.006642772504974141}, {\"prediction\": \"POLICY CHANGE\", \"confidence\": 6.905796676155647e-05}, {\"prediction\": \"POLICY CHANGE\", \"confidence\": 0.0016129625837710642}, {\"prediction\": \"POLICY CHANGE\", \"confidence\": 0.002011344328091386}, {\"prediction\": \"BILL\", \"confidence\": 0.38386935210431705}, {\"prediction\": \"POLICY CHANGE\", \"confidence\": 0.27496527889612093}, {\"prediction\": \"POLICY CHANGE\", \"confidence\": 0.008453355630887657}, {\"prediction\": \"POLICY CHANGE\", \"confidence\": 0.007948072343001765}, {\"prediction\": \"POLICY CHANGE\", \"confidence\": 0.0009733928803699332}, {\"prediction\": \"POLICY CHANGE\", \"confidence\": 0.0016018627674631934}, {\"prediction\": \"POLICY CHANGE\", \"confidence\": 0.0014460700128649969}, {\"prediction\": \"POLICY CHANGE\", \"confidence\": 0.2737615483367386}, {\"prediction\": \"POLICY CHANGE\", \"confidence\": 2.1688662337100893e-08}, {\"prediction\": \"POLICY CHANGE\", \"confidence\": 0.000256143256840359}, {\"prediction\": \"POLICY CHANGE\", \"confidence\": 0.016856636969139246}, {\"prediction\": \"POLICY CHANGE\", \"confidence\": 5.3286961944844445e-11}, {\"prediction\": \"POLICY CHANGE\", \"confidence\": 0.0031466595131696435}, {\"prediction\": \"POLICY CHANGE\", \"confidence\": 6.283147055431782e-05}, {\"prediction\": \"BILL\", \"confidence\": 0.03355642112427146}, {\"prediction\": \"BINDER\", \"confidence\": 0.5315836323602252}, {\"prediction\": \"POLICY CHANGE\", \"confidence\": 3.877102333852994e-11}, {\"prediction\": \"NON-RENEWAL NOTICE\", \"confidence\": 0.13675477952764276}, {\"prediction\": \"POLICY CHANGE\", \"confidence\": 0.0029002448155117755}, {\"prediction\": \"POLICY CHANGE\", \"confidence\": 0.1011067958691353}, {\"prediction\": \"POLICY CHANGE\", \"confidence\": 0.005639577749371225}, {\"prediction\": \"BINDER\", \"confidence\": 0.054979875586199246}, {\"prediction\": \"POLICY CHANGE\", \"confidence\": 0.05062879364848827}, {\"prediction\": \"POLICY CHANGE\", \"confidence\": 0.013719041366653953}, {\"prediction\": \"POLICY CHANGE\", \"confidence\": 0.009169679826878954}, {\"prediction\": \"BINDER\", \"confidence\": 2.858006745532286e-05}, {\"prediction\": \"POLICY CHANGE\", \"confidence\": 0.13220067438923333}, {\"prediction\": \"POLICY CHANGE\", \"confidence\": 0.0097431558730389}, {\"prediction\": \"POLICY CHANGE\", \"confidence\": 0.37509617342158186}, {\"prediction\": \"POLICY CHANGE\", \"confidence\": 0.22893204193633546}, {\"prediction\": \"POLICY CHANGE\", \"confidence\": 0.008708962556451384}, {\"prediction\": \"POLICY CHANGE\", \"confidence\": 0.007146402893664988}, {\"prediction\": \"DELETION OF INTEREST\", \"confidence\": 7.013706288607698e-05}, {\"prediction\": \"NON-RENEWAL NOTICE\", \"confidence\": 3.595061053438038e-14}, {\"prediction\": \"POLICY CHANGE\", \"confidence\": 5.193677245812265e-05}, {\"prediction\": \"BINDER\", \"confidence\": 0.25910376993343043}, {\"prediction\": \"POLICY CHANGE\", \"confidence\": 9.081812193514665e-07}, {\"prediction\": \"BINDER\", \"confidence\": 3.846406203368429e-12}, {\"prediction\": \"POLICY CHANGE\", \"confidence\": 0.0018843216930243577}, {\"prediction\": \"POLICY CHANGE\", \"confidence\": 9.373414182020129e-17}, {\"prediction\": \"BINDER\", \"confidence\": 1.490397005452242e-07}, {\"prediction\": \"POLICY CHANGE\", \"confidence\": 4.028602312186421e-06}, {\"prediction\": \"POLICY CHANGE\", \"confidence\": 2.9881598892001895e-07}, {\"prediction\": \"BILL\", \"confidence\": 0.633476269276107}, {\"prediction\": \"POLICY CHANGE\", \"confidence\": 0.10540719181606882}, {\"prediction\": \"BILL\", \"confidence\": 9.888029217156095e-07}, {\"prediction\": \"POLICY CHANGE\", \"confidence\": 0.00205614485010949}, {\"prediction\": \"POLICY CHANGE\", \"confidence\": 1.8991030990744305e-05}, {\"prediction\": \"POLICY CHANGE\", \"confidence\": 0.0014942166935990025}, {\"prediction\": \"BILL\", \"confidence\": 0.09865105679893803}, {\"prediction\": \"POLICY CHANGE\", \"confidence\": 0.033926351258634115}, {\"prediction\": \"POLICY CHANGE\", \"confidence\": 0.0002456582524994363}, {\"prediction\": \"POLICY CHANGE\", \"confidence\": 0.008249921435498731}, {\"prediction\": \"POLICY CHANGE\", \"confidence\": 1.6045878678495953e-07}, {\"prediction\": \"POLICY CHANGE\", \"confidence\": 0.0316143821885747}, {\"prediction\": \"BINDER\", \"confidence\": 0.005281212527093567}, {\"prediction\": \"BINDER\", \"confidence\": 0.029090986441176997}, {\"prediction\": \"POLICY CHANGE\", \"confidence\": 0.7689748166685367}, {\"prediction\": \"POLICY CHANGE\", \"confidence\": 1.0213676347663507e-06}, {\"prediction\": \"POLICY CHANGE\", \"confidence\": 0.020395080027926938}, {\"prediction\": \"POLICY CHANGE\", \"confidence\": 0.00031262618626340947}, {\"prediction\": \"POLICY CHANGE\", \"confidence\": 1.155592083808689e-07}, {\"prediction\": \"BILL\", \"confidence\": 0.0003365671817127994}, {\"prediction\": \"POLICY CHANGE\", \"confidence\": 0.04517928458217028}, {\"prediction\": \"POLICY CHANGE\", \"confidence\": 1.1066038992700586e-06}, {\"prediction\": \"POLICY CHANGE\", \"confidence\": 0.001717723066850785}, {\"prediction\": \"BINDER\", \"confidence\": 0.0060618128250836305}, {\"prediction\": \"BINDER\", \"confidence\": 1.2587769717863564e-08}, {\"prediction\": \"BINDER\", \"confidence\": 0.05916914873765474}, {\"prediction\": \"BINDER\", \"confidence\": 0.0017378004005047288}, {\"prediction\": \"BINDER\", \"confidence\": 0.0999658578300286}, {\"prediction\": \"NON-RENEWAL NOTICE\", \"confidence\": 0.6086743523623593}, {\"prediction\": \"BINDER\", \"confidence\": 0.1768414089397056}, {\"prediction\": \"POLICY CHANGE\", \"confidence\": 2.1831367886840765e-06}, {\"prediction\": \"POLICY CHANGE\", \"confidence\": 0.004087154060332668}, {\"prediction\": \"POLICY CHANGE\", \"confidence\": 0.00012165894995647818}, {\"prediction\": \"POLICY CHANGE\", \"confidence\": 0.009201584295476137}, {\"prediction\": \"POLICY CHANGE\", \"confidence\": 0.27631543015152993}, {\"prediction\": \"POLICY CHANGE\", \"confidence\": 8.550587151129235e-07}, {\"prediction\": \"POLICY CHANGE\", \"confidence\": 2.0943294871115923e-06}, {\"prediction\": \"BINDER\", \"confidence\": 0.0138649125728132}, {\"prediction\": \"POLICY CHANGE\", \"confidence\": 1.7643934647881598e-11}, {\"prediction\": \"POLICY CHANGE\", \"confidence\": 0.002835665702223603}, {\"prediction\": \"POLICY CHANGE\", \"confidence\": 0.00017501312116917226}, {\"prediction\": \"POLICY CHANGE\", \"confidence\": 0.02225038187905387}, {\"prediction\": \"POLICY CHANGE\", \"confidence\": 0.6674500033780864}, {\"prediction\": \"POLICY CHANGE\", \"confidence\": 1.3237473766878857e-07}, {\"prediction\": \"BILL\", \"confidence\": 0.0036951141087746696}, {\"prediction\": \"NON-RENEWAL NOTICE\", \"confidence\": 0.003729177090546164}, {\"prediction\": \"NON-RENEWAL NOTICE\", \"confidence\": 0.09818039919643766}, {\"prediction\": \"POLICY CHANGE\", \"confidence\": 0.009377655050999084}, {\"prediction\": \"BINDER\", \"confidence\": 0.02484207895505298}, {\"prediction\": \"POLICY CHANGE\", \"confidence\": 0.04104304928917796}, {\"prediction\": \"POLICY CHANGE\", \"confidence\": 0.004289432060523385}, {\"prediction\": \"BILL\", \"confidence\": 0.015096495345283711}, {\"prediction\": \"POLICY CHANGE\", \"confidence\": 0.000470696302806331}, {\"prediction\": \"POLICY CHANGE\", \"confidence\": 0.010686465537809046}, {\"prediction\": \"POLICY CHANGE\", \"confidence\": 0.0057457997877364405}, {\"prediction\": \"POLICY CHANGE\", \"confidence\": 0.12416978362792586}, {\"prediction\": \"POLICY CHANGE\", \"confidence\": 0.5374878995763849}, {\"prediction\": \"POLICY CHANGE\", \"confidence\": 0.09166024963497628}, {\"prediction\": \"POLICY CHANGE\", \"confidence\": 0.033220818544340225}, {\"prediction\": \"POLICY CHANGE\", \"confidence\": 0.0011845110351420363}, {\"prediction\": \"POLICY CHANGE\", \"confidence\": 0.00013559446228236273}, {\"prediction\": \"BINDER\", \"confidence\": 0.002204047021050652}, {\"prediction\": \"POLICY CHANGE\", \"confidence\": 0.8400765974143739}, {\"prediction\": \"POLICY CHANGE\", \"confidence\": 1.1374267133673003e-08}, {\"prediction\": \"POLICY CHANGE\", \"confidence\": 0.004285890797768446}, {\"prediction\": \"POLICY CHANGE\", \"confidence\": 0.011534954545392467}, {\"prediction\": \"POLICY CHANGE\", \"confidence\": 3.5545612397707163e-10}, {\"prediction\": \"BINDER\", \"confidence\": 0.0028127829381422668}, {\"prediction\": \"POLICY CHANGE\", \"confidence\": 0.00022862364620593778}, {\"prediction\": \"POLICY CHANGE\", \"confidence\": 0.006739316028301484}, {\"prediction\": \"POLICY CHANGE\", \"confidence\": 0.13076153927542325}, {\"prediction\": \"POLICY CHANGE\", \"confidence\": 2.497402386191757e-07}, {\"prediction\": \"NON-RENEWAL NOTICE\", \"confidence\": 3.588136595541317e-05}, {\"prediction\": \"POLICY CHANGE\", \"confidence\": 0.0041961081412838835}, {\"prediction\": \"POLICY CHANGE\", \"confidence\": 0.345305327426132}, {\"prediction\": \"POLICY CHANGE\", \"confidence\": 0.010139397546365385}, {\"prediction\": \"NON-RENEWAL NOTICE\", \"confidence\": 0.00393773623592837}, {\"prediction\": \"BINDER\", \"confidence\": 0.0035103096886296525}, {\"prediction\": \"POLICY CHANGE\", \"confidence\": 0.06385823732579382}, {\"prediction\": \"POLICY CHANGE\", \"confidence\": 0.008059475267300662}, {\"prediction\": \"POLICY CHANGE\", \"confidence\": 0.0012827087864394394}, {\"prediction\": \"BINDER\", \"confidence\": 0.0037324921755528795}, {\"prediction\": \"POLICY CHANGE\", \"confidence\": 0.011217760778649813}, {\"prediction\": \"POLICY CHANGE\", \"confidence\": 0.019701462919073928}, {\"prediction\": \"NON-RENEWAL NOTICE\", \"confidence\": 0.518637877598609}, {\"prediction\": \"BINDER\", \"confidence\": 1.9272383260038944e-05}, {\"prediction\": \"POLICY CHANGE\", \"confidence\": 0.006401833726981069}, {\"prediction\": \"POLICY CHANGE\", \"confidence\": 0.0012358279415907768}, {\"prediction\": \"BINDER\", \"confidence\": 0.26566587898557625}, {\"prediction\": \"BINDER\", \"confidence\": 0.0004314034148710209}, {\"prediction\": \"BINDER\", \"confidence\": 0.550557627503097}, {\"prediction\": \"POLICY CHANGE\", \"confidence\": 1.69797618864708e-06}, {\"prediction\": \"POLICY CHANGE\", \"confidence\": 0.003275280364107545}, {\"prediction\": \"POLICY CHANGE\", \"confidence\": 0.014751062768560141}, {\"prediction\": \"POLICY CHANGE\", \"confidence\": 1.0686681722441841e-11}, {\"prediction\": \"POLICY CHANGE\", \"confidence\": 0.10347261601886804}, {\"prediction\": \"POLICY CHANGE\", \"confidence\": 0.00021792067258474582}, {\"prediction\": \"POLICY CHANGE\", \"confidence\": 0.018011981780354815}, {\"prediction\": \"BINDER\", \"confidence\": 0.02442812368172341}, {\"prediction\": \"POLICY CHANGE\", \"confidence\": 1.7677816668086888e-12}, {\"prediction\": \"POLICY CHANGE\", \"confidence\": 0.017950578880023077}, {\"prediction\": \"POLICY CHANGE\", \"confidence\": 2.967677529866171e-05}, {\"prediction\": \"POLICY CHANGE\", \"confidence\": 1.4370033368724305e-07}, {\"prediction\": \"BILL\", \"confidence\": 0.00020942375304794023}, {\"prediction\": \"POLICY CHANGE\", \"confidence\": 0.4350317232682615}]}\n"
     ]
    }
   ],
   "source": [
    "import json\n",
    "prob = model.predict_proba(vec_content)\n",
    "pred = model.predict(vec_content)\n",
    "\n",
    "prob = prob.ravel()\n",
    "\n",
    "prediction = np.array([pred, prob])\n",
    "\n",
    "prediction_p = prediction[0].tolist()\n",
    "\n",
    "confidence= prediction[1].tolist()\n",
    "\n",
    "# print(prediction_p)\n",
    "\n",
    "instances = []\n",
    "for row in zip(prediction_p, confidence):\n",
    "    instances.append({\"prediction\": row[0], \"confidence\": row[1]})\n",
    "    \n",
    "\n",
    "json_output = {\"instances\": instances}\n",
    "json_data = json.dumps(json_output)\n",
    "print(json_data)\n",
    "            \n"
   ]
  },
  {
   "cell_type": "code",
   "execution_count": 28,
   "metadata": {},
   "outputs": [
    {
     "name": "stderr",
     "output_type": "stream",
     "text": [
      "C:\\Python27\\lib\\site-packages\\sklearn\\linear_model\\logistic.py:433: FutureWarning: Default solver will be changed to 'lbfgs' in 0.22. Specify a solver to silence this warning.\n",
      "  FutureWarning)\n",
      "C:\\Python27\\lib\\site-packages\\sklearn\\linear_model\\logistic.py:460: FutureWarning: Default multi_class will be changed to 'auto' in 0.22. Specify the multi_class option to silence this warning.\n",
      "  \"this warning.\", FutureWarning)\n"
     ]
    }
   ],
   "source": [
    "models = [\n",
    "    LinearSVC(),\n",
    "    MultinomialNB(),\n",
    "    LogisticRegression(random_state=0)\n",
    "]\n",
    "\n",
    "CV = 5\n",
    "cv_df = pd.DataFrame(index=range(CV * len(models)))\n",
    "\n",
    "entries = []\n",
    "for model in models:\n",
    "    model_name = model.__class__.__name__\n",
    "    accuracies = cross_val_score(model, vector_content, y, scoring='accuracy', cv=CV)\n",
    "    for fold_idx, accuracy in enumerate(accuracies):\n",
    "        entries.append((model_name, fold_idx, accuracy))\n",
    "cv_df = pd.DataFrame(entries, columns=['model_name', 'fold_idx', 'accuracy'])"
   ]
  },
  {
   "cell_type": "code",
   "execution_count": 29,
   "metadata": {},
   "outputs": [
    {
     "data": {
      "text/html": [
       "<div>\n",
       "<style scoped>\n",
       "    .dataframe tbody tr th:only-of-type {\n",
       "        vertical-align: middle;\n",
       "    }\n",
       "\n",
       "    .dataframe tbody tr th {\n",
       "        vertical-align: top;\n",
       "    }\n",
       "\n",
       "    .dataframe thead th {\n",
       "        text-align: right;\n",
       "    }\n",
       "</style>\n",
       "<table border=\"1\" class=\"dataframe\">\n",
       "  <thead>\n",
       "    <tr style=\"text-align: right;\">\n",
       "      <th></th>\n",
       "      <th>Mean Accuracy</th>\n",
       "      <th>Standard deviation</th>\n",
       "    </tr>\n",
       "    <tr>\n",
       "      <th>model_name</th>\n",
       "      <th></th>\n",
       "      <th></th>\n",
       "    </tr>\n",
       "  </thead>\n",
       "  <tbody>\n",
       "    <tr>\n",
       "      <th>LinearSVC</th>\n",
       "      <td>0.857687</td>\n",
       "      <td>0.002904</td>\n",
       "    </tr>\n",
       "    <tr>\n",
       "      <th>LogisticRegression</th>\n",
       "      <td>0.851108</td>\n",
       "      <td>0.003412</td>\n",
       "    </tr>\n",
       "    <tr>\n",
       "      <th>MultinomialNB</th>\n",
       "      <td>0.726474</td>\n",
       "      <td>0.003319</td>\n",
       "    </tr>\n",
       "  </tbody>\n",
       "</table>\n",
       "</div>"
      ],
      "text/plain": [
       "                    Mean Accuracy  Standard deviation\n",
       "model_name                                           \n",
       "LinearSVC                0.857687            0.002904\n",
       "LogisticRegression       0.851108            0.003412\n",
       "MultinomialNB            0.726474            0.003319"
      ]
     },
     "execution_count": 29,
     "metadata": {},
     "output_type": "execute_result"
    }
   ],
   "source": [
    "mean_accuracy = cv_df.groupby('model_name').accuracy.mean()\n",
    "std_accuracy = cv_df.groupby('model_name').accuracy.std()\n",
    "\n",
    "acc = pd.concat([mean_accuracy, std_accuracy], axis= 1, \n",
    "          ignore_index=True)\n",
    "acc.columns = ['Mean Accuracy', 'Standard deviation']\n",
    "acc"
   ]
  },
  {
   "cell_type": "code",
   "execution_count": 46,
   "metadata": {},
   "outputs": [],
   "source": [
    "from sklearn.model_selection import RandomizedSearchCV\n",
    "from scipy.stats import reciprocal, uniform\n",
    "from sklearn.svm import SVC\n",
    "\n",
    "svm_clf = SVC(gamma=\"scale\")"
   ]
  },
  {
   "cell_type": "code",
   "execution_count": null,
   "metadata": {},
   "outputs": [
    {
     "name": "stdout",
     "output_type": "stream",
     "text": [
      "Fitting 3 folds for each of 10 candidates, totalling 30 fits\n",
      "[CV] C=1.465476601229431, gamma=0.005054581190559187 .................\n"
     ]
    },
    {
     "name": "stderr",
     "output_type": "stream",
     "text": [
      "[Parallel(n_jobs=1)]: Using backend SequentialBackend with 1 concurrent workers.\n"
     ]
    },
    {
     "name": "stdout",
     "output_type": "stream",
     "text": [
      "[CV] .. C=1.465476601229431, gamma=0.005054581190559187, total=12.6min\n",
      "[CV] C=1.465476601229431, gamma=0.005054581190559187 .................\n"
     ]
    },
    {
     "name": "stderr",
     "output_type": "stream",
     "text": [
      "[Parallel(n_jobs=1)]: Done   1 out of   1 | elapsed: 20.1min remaining:    0.0s\n"
     ]
    },
    {
     "name": "stdout",
     "output_type": "stream",
     "text": [
      "[CV] .. C=1.465476601229431, gamma=0.005054581190559187, total=12.7min\n",
      "[CV] C=1.465476601229431, gamma=0.005054581190559187 .................\n",
      "[CV] .. C=1.465476601229431, gamma=0.005054581190559187, total=13.5min\n",
      "[CV] C=8.468244191303135, gamma=0.03426765798279164 ..................\n",
      "[CV] ... C=8.468244191303135, gamma=0.03426765798279164, total= 6.3min\n",
      "[CV] C=8.468244191303135, gamma=0.03426765798279164 ..................\n",
      "[CV] ... C=8.468244191303135, gamma=0.03426765798279164, total= 6.3min\n",
      "[CV] C=8.468244191303135, gamma=0.03426765798279164 ..................\n",
      "[CV] ... C=8.468244191303135, gamma=0.03426765798279164, total= 6.3min\n",
      "[CV] C=10.70130013326292, gamma=0.0527082920198576 ...................\n",
      "[CV] .... C=10.70130013326292, gamma=0.0527082920198576, total= 6.0min\n",
      "[CV] C=10.70130013326292, gamma=0.0527082920198576 ...................\n",
      "[CV] .... C=10.70130013326292, gamma=0.0527082920198576, total= 5.8min\n",
      "[CV] C=10.70130013326292, gamma=0.0527082920198576 ...................\n",
      "[CV] .... C=10.70130013326292, gamma=0.0527082920198576, total= 5.9min\n",
      "[CV] C=7.5742281075256415, gamma=0.0926480686050355 ..................\n",
      "[CV] ... C=7.5742281075256415, gamma=0.0926480686050355, total= 5.6min\n",
      "[CV] C=7.5742281075256415, gamma=0.0926480686050355 ..................\n"
     ]
    }
   ],
   "source": [
    "param_distributions = {\"gamma\": reciprocal(0.001, 0.1), \"C\": uniform(1, 10)}\n",
    "rnd_search_cv = RandomizedSearchCV(svm_clf, param_distributions, n_iter=10, verbose=2, cv=3)\n",
    "rnd_search_cv.fit(X_train, y_train)"
   ]
  },
  {
   "cell_type": "code",
   "execution_count": null,
   "metadata": {},
   "outputs": [],
   "source": []
  }
 ],
 "metadata": {
  "kernelspec": {
   "display_name": "Python 3",
   "language": "python",
   "name": "python3"
  },
  "language_info": {
   "codemirror_mode": {
    "name": "ipython",
    "version": 3
   },
   "file_extension": ".py",
   "mimetype": "text/x-python",
   "name": "python",
   "nbconvert_exporter": "python",
   "pygments_lexer": "ipython3",
   "version": "3.7.2"
  }
 },
 "nbformat": 4,
 "nbformat_minor": 2
}

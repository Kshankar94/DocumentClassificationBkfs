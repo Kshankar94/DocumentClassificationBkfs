{
 "cells": [
  {
   "cell_type": "code",
   "execution_count": 1,
   "metadata": {},
   "outputs": [
    {
     "data": {
      "text/plain": [
       "'\\nImport the dataset\\n\\nPerform NLP preprocessing\\n\\nApply ML models\\n\\nTraining/Testing/Hyperparameter tuning\\n\\n'"
      ]
     },
     "execution_count": 1,
     "metadata": {},
     "output_type": "execute_result"
    }
   ],
   "source": [
    "'''\n",
    "Import the dataset\n",
    "\n",
    "Perform NLP preprocessing\n",
    "\n",
    "Apply ML models\n",
    "\n",
    "Training/Testing/Hyperparameter tuning\n",
    "\n",
    "'''"
   ]
  },
  {
   "cell_type": "code",
   "execution_count": 2,
   "metadata": {},
   "outputs": [],
   "source": [
    "import pandas as pd\n",
    "import numpy as np\n",
    "\n",
    "from sklearn.model_selection import train_test_split\n",
    "from sklearn.feature_extraction.text import TfidfVectorizer\n",
    "from sklearn.metrics import confusion_matrix\n",
    "from sklearn import metrics\n",
    "from sklearn.svm import LinearSVC\n",
    "\n",
    "from sklearn.metrics import precision_recall_fscore_support\n",
    "\n",
    "from sklearn.naive_bayes import MultinomialNB\n",
    "from sklearn.linear_model import LogisticRegression\n",
    "from sklearn.ensemble import RandomForestClassifier\n",
    "\n",
    "from sklearn.model_selection import cross_val_score\n",
    "from sklearn.feature_extraction.text import CountVectorizer\n",
    "\n",
    "from sklearn.svm import SVC\n",
    "from sklearn.metrics import accuracy_score"
   ]
  },
  {
   "cell_type": "markdown",
   "metadata": {},
   "source": [
    "Importing training file and adding column titles"
   ]
  },
  {
   "cell_type": "code",
   "execution_count": 3,
   "metadata": {},
   "outputs": [
    {
     "data": {
      "text/plain": [
       "count                                                 61709\n",
       "unique                                                59753\n",
       "top       bf064c332aa1 079935e500e5 1a4dd36c6de0 7efa289...\n",
       "freq                                                     11\n",
       "Name: document_text, dtype: object"
      ]
     },
     "execution_count": 3,
     "metadata": {},
     "output_type": "execute_result"
    }
   ],
   "source": [
    "df = pd.read_csv('dataset/input_train.csv')\n",
    "\n",
    "#add column title\n",
    "df.columns = ['document_label', 'document_text']\n",
    "df = df[pd.notnull(df['document_text'])]\n",
    "\n",
    "df.shape\n",
    "X = df['document_text']\n",
    "y = df['document_label']\n",
    "\n",
    "X.describe()"
   ]
  },
  {
   "cell_type": "markdown",
   "metadata": {},
   "source": [
    "Tfid vectorizer could be the best choice. Due to max_df & min_df issues, I chose count vectorizer with 1000 features"
   ]
  },
  {
   "cell_type": "code",
   "execution_count": 4,
   "metadata": {},
   "outputs": [
    {
     "name": "stdout",
     "output_type": "stream",
     "text": [
      "(61709, 1000)\n"
     ]
    }
   ],
   "source": [
    "# vectorizer = TfidfVectorizer(sublinear_tf=True, ngram_range=(1, 2), min_df = 1, max_df = 0.9, max_features = 5000)\n",
    "# vector_content = vectorizer.fit_transform(X.apply(lambda x: np.str_(x)))\n",
    "# print(vector_content.shape)\n",
    "\n",
    "vectorizer = CountVectorizer(ngram_range=(1,2), max_features=1000)\n",
    "vector_content = vectorizer.fit_transform(X.apply(lambda x: np.str_(x)))\n",
    "print(vector_content.shape)"
   ]
  },
  {
   "cell_type": "code",
   "execution_count": 5,
   "metadata": {},
   "outputs": [],
   "source": [
    "X_train, X_test, y_train, y_test = train_test_split(\n",
    "    vector_content, y, test_size=0.2, random_state=1)\n",
    "X_train, X_val, y_train, y_val = train_test_split(\n",
    "    X_train, y_train, test_size=0.25, random_state=1)"
   ]
  },
  {
   "cell_type": "markdown",
   "metadata": {},
   "source": [
    "Testing different models (SVM_Classifier with first 30000 data points)"
   ]
  },
  {
   "cell_type": "code",
   "execution_count": 6,
   "metadata": {},
   "outputs": [
    {
     "data": {
      "text/plain": [
       "SVC(C=1.0, cache_size=200, class_weight=None, coef0=0.0,\n",
       "  decision_function_shape='ovr', degree=3, gamma='scale', kernel='rbf',\n",
       "  max_iter=-1, probability=False, random_state=None, shrinking=True,\n",
       "  tol=0.001, verbose=False)"
      ]
     },
     "execution_count": 6,
     "metadata": {},
     "output_type": "execute_result"
    }
   ],
   "source": [
    "#import model\n",
    "svm_clf = SVC(gamma=\"scale\")\n",
    "svm_clf.fit(X_train[:30000], y_train[:30000])"
   ]
  },
  {
   "cell_type": "markdown",
   "metadata": {},
   "source": [
    "Testing the model with a test set"
   ]
  },
  {
   "cell_type": "code",
   "execution_count": 7,
   "metadata": {},
   "outputs": [
    {
     "name": "stdout",
     "output_type": "stream",
     "text": [
      "(172, 2)\n"
     ]
    }
   ],
   "source": [
    "df_test = pd.read_csv('dataset/input_test_.csv')\n",
    "\n",
    "print(df_test.shape)\n",
    "\n",
    "df_test.columns = ['document_label', 'document_text']\n",
    "df_test = df_test[pd.notnull(df_test['document_text'])]\n",
    "\n",
    "df.shape\n",
    "X_t = df_test['document_text']\n",
    "y_t = df_test['document_label']\n",
    "\n",
    "df_test.head()\n",
    "\n",
    "df_test.to_csv(r'dataset/input_test_label.csv', index = False, encoding='utf-8')"
   ]
  },
  {
   "cell_type": "code",
   "execution_count": 8,
   "metadata": {},
   "outputs": [
    {
     "name": "stdout",
     "output_type": "stream",
     "text": [
      "(172,)\n",
      "(172, 1000)\n",
      "(0.12105263157894737, 0.13355973528387322, 0.08289246693502014, None)\n"
     ]
    },
    {
     "name": "stderr",
     "output_type": "stream",
     "text": [
      "C:\\Python27\\lib\\site-packages\\sklearn\\metrics\\classification.py:1143: UndefinedMetricWarning: Precision and F-score are ill-defined and being set to 0.0 in labels with no predicted samples.\n",
      "  'precision', 'predicted', average, warn_for)\n"
     ]
    }
   ],
   "source": [
    "df_label = pd.read_csv('dataset/input_test_label.csv')\n",
    "X_ = df_label['document_text']\n",
    "\n",
    "print(X_.shape)\n",
    "\n",
    "vectorize = CountVectorizer(ngram_range=(1,2), max_features=1000)\n",
    "vec_content = vectorize.fit_transform(X_.apply(lambda x: np.str_(x)))\n",
    "print(vec_content.shape)\n",
    "                                      \n",
    "y_t = df_label['document_label'].values.tolist()                                        \n",
    "y_label = svm_clf.predict(vec_content)   \n",
    "\n",
    "print(precision_recall_fscore_support(y_t, y_label, average='macro'))     "
   ]
  },
  {
   "cell_type": "code",
   "execution_count": 9,
   "metadata": {},
   "outputs": [
    {
     "name": "stdout",
     "output_type": "stream",
     "text": [
      "\t\t\t\tCLASSIFICATIION METRICS\n",
      "\n",
      "                         precision    recall  f1-score   support\n",
      "\n",
      "         RETURNED CHECK       0.81      0.29      0.43        45\n",
      "                   BILL       0.90      0.89      0.90      3706\n",
      "          POLICY CHANGE       0.40      0.04      0.07        55\n",
      "    CANCELLATION NOTICE       0.84      0.86      0.85      1780\n",
      "            DECLARATION       0.80      0.87      0.83      1929\n",
      "     CHANGE ENDORSEMENT       0.74      0.79      0.77       178\n",
      "     NON-RENEWAL NOTICE       0.57      0.18      0.28       193\n",
      "                 BINDER       0.90      0.89      0.89       972\n",
      "   REINSTATEMENT NOTICE       0.94      0.59      0.72       150\n",
      "   DELETION OF INTEREST       1.00      0.29      0.45        41\n",
      "      EXPIRATION NOTICE       0.94      0.70      0.80       113\n",
      "INTENT TO CANCEL NOTICE       0.78      0.86      0.82      2119\n",
      "            APPLICATION       0.92      0.91      0.92       896\n",
      "            BILL BINDER       0.98      0.75      0.85       165\n",
      "\n",
      "              micro avg       0.85      0.85      0.85     12342\n",
      "              macro avg       0.82      0.64      0.68     12342\n",
      "           weighted avg       0.85      0.85      0.85     12342\n",
      "\n"
     ]
    }
   ],
   "source": [
    "y_pred = svm_clf.predict(X_val)\n",
    "\n",
    "print('\\t\\t\\t\\tCLASSIFICATIION METRICS\\n')\n",
    "print(metrics.classification_report(y_val, y_pred, \n",
    "                                    target_names= df['document_label'].unique()))\n"
   ]
  },
  {
   "cell_type": "code",
   "execution_count": 10,
   "metadata": {},
   "outputs": [
    {
     "name": "stdout",
     "output_type": "stream",
     "text": [
      "(0.8232001016104897, 0.6355821553463901, 0.6830182780049482, None)\n",
      "(0.8224502012196832, 0.6332329502983584, 0.67518174611608, None)\n"
     ]
    }
   ],
   "source": [
    "#precision recall score for a svm classifier\n",
    "print(precision_recall_fscore_support(y_val, y_pred, average='macro'))\n",
    "y_pred_test = svm_clf.predict(X_test)\n",
    "print(precision_recall_fscore_support(y_test, y_pred_test, average='macro'))"
   ]
  },
  {
   "cell_type": "code",
   "execution_count": 11,
   "metadata": {
    "scrolled": true
   },
   "outputs": [
    {
     "name": "stdout",
     "output_type": "stream",
     "text": [
      "naive bayes with validation set\n",
      "(0.48614410981510753, 0.7006008662940548, 0.5179960498635788, None)\n"
     ]
    }
   ],
   "source": [
    "#Testing Multinomial model with the same training data\n",
    "\n",
    "NB_classifier = MultinomialNB().fit(X_train, y_train)\n",
    "\n",
    "y_pred_val = NB_classifier.predict(X_val)\n",
    "y_pred_test_NB = NB_classifier.predict(X_test)\n",
    "\n",
    "\n",
    "print(\"naive bayes with validation set\")\n",
    "print(precision_recall_fscore_support(y_val, y_pred_val, average='macro'))"
   ]
  },
  {
   "cell_type": "code",
   "execution_count": 12,
   "metadata": {},
   "outputs": [
    {
     "name": "stdout",
     "output_type": "stream",
     "text": [
      "sgd classifier with validation data\n",
      "(0.7350894347444358, 0.6893896384485654, 0.7043163503572354, None)\n",
      "sgd classifier with test data\n",
      "(0.7381741064741049, 0.6974251881282748, 0.7098177642802309, None)\n",
      "sgd classifier with another preprocessed test data\n",
      "(0.07924063116370808, 0.0772937152247497, 0.05391786663958927, None)\n"
     ]
    },
    {
     "name": "stderr",
     "output_type": "stream",
     "text": [
      "C:\\Python27\\lib\\site-packages\\sklearn\\metrics\\classification.py:1143: UndefinedMetricWarning: Precision and F-score are ill-defined and being set to 0.0 in labels with no predicted samples.\n",
      "  'precision', 'predicted', average, warn_for)\n",
      "C:\\Python27\\lib\\site-packages\\sklearn\\metrics\\classification.py:1145: UndefinedMetricWarning: Recall and F-score are ill-defined and being set to 0.0 in labels with no true samples.\n",
      "  'recall', 'true', average, warn_for)\n"
     ]
    }
   ],
   "source": [
    "#sgd classifier testing\n",
    "\n",
    "from sklearn.linear_model import SGDClassifier\n",
    "sgd_model = SGDClassifier(max_iter=1000, tol=1e-3)\n",
    "\n",
    "sgd_model.fit(X_train, y_train)\n",
    "\n",
    "y_pred_val_ = sgd_model.predict(X_val)\n",
    "y_pred_test_sgd = sgd_model.predict(X_test)\n",
    "\n",
    "print(\"sgd classifier with validation data\")\n",
    "print(precision_recall_fscore_support(y_val, y_pred_val_, average='macro'))\n",
    "\n",
    "print(\"sgd classifier with test data\")\n",
    "print(precision_recall_fscore_support(y_test, y_pred_test_sgd, average='macro'))\n",
    "\n",
    "print(\"sgd classifier with another preprocessed test data\")\n",
    "y_lab = sgd_model.predict(vec_content)\n",
    "print(precision_recall_fscore_support(y_t, y_lab, average='macro'))\n",
    "\n"
   ]
  },
  {
   "cell_type": "code",
   "execution_count": 16,
   "metadata": {},
   "outputs": [
    {
     "name": "stdout",
     "output_type": "stream",
     "text": [
      "[[ 121    9    9    0    0    0    0    2    0    0    0    0    0    0]\n",
      " [   2 3146  229  192   44    1    1   28   14    2   13    3    0   30]\n",
      " [  10   67 1860   25   27   20    2   41   24   14    3    1    3    9]\n",
      " [   5   80   75 1687    9    1    3    6   52   42    1    9    0    0]\n",
      " [   2   16   55    6   65    1    0   38    0    7    0    0    1    0]\n",
      " [   0    1   31    2    1  139    1    0    0    1    1    0    0    0]\n",
      " [   0    0   12    6    0    1  129    0    3    1    0    0    0    0]\n",
      " [   1   57  266   18   84    1    1 1354    3    3    3    0    1   11]\n",
      " [   3    6   18   19    1    0    2    0  815    4    2    4    0    0]\n",
      " [   0    0   15  106   13    4    1    2    4  786    0    1    0    0]\n",
      " [   0   14    9    4    4    0    1    0    1    0  107    0    0    0]\n",
      " [   0    6    0   15    0    0    0    0    1    1    0   22    0    0]\n",
      " [   0    3   16    0    2    0    0    7    1    0    0    0   15    1]\n",
      " [   0   24   18    1    1    0    0    2    0    1    0    0    0   14]]\n"
     ]
    },
    {
     "data": {
      "image/png": "[encoded data removed]",
      "text/plain": [
       "<Figure size 432x288 with 1 Axes>"
      ]
     },
     "metadata": {
      "needs_background": "light"
     },
     "output_type": "display_data"
    },
    {
     "data": {
      "image/png": "[encoded data removed]",
      "text/plain": [
       "<Figure size 1440x1296 with 2 Axes>"
      ]
     },
     "metadata": {
      "needs_background": "light"
     },
     "output_type": "display_data"
    }
   ],
   "source": [
    "\n",
    "#confusion matrix for test set\n",
    "\n",
    "from sklearn.metrics import confusion_matrix\n",
    "\n",
    "import seaborn as sns\n",
    "import matplotlib.pyplot as plt     \n",
    "\n",
    "ax= plt.subplot()\n",
    "\n",
    "labels = df[\"document_label\"].unique()\n",
    "\n",
    "cm = confusion_matrix(y_test, y_pred_test_sgd, labels)\n",
    "print(cm)\n",
    "\n",
    "fig = plt.figure(figsize = (20,18))\n",
    "ax = fig.add_subplot(111)\n",
    "cax = ax.matshow(cm)\n",
    "plt.title('Confusion matrix of the classifier')\n",
    "fig.colorbar(cax)\n",
    "ax.set_xticklabels([''] + labels)\n",
    "ax.set_yticklabels([''] + labels)\n",
    "plt.xlabel('Predicted')\n",
    "plt.ylabel('True')\n",
    "plt.show()"
   ]
  },
  {
   "cell_type": "code",
   "execution_count": 14,
   "metadata": {},
   "outputs": [
    {
     "name": "stderr",
     "output_type": "stream",
     "text": [
      "C:\\Python27\\lib\\site-packages\\sklearn\\svm\\base.py:931: ConvergenceWarning: Liblinear failed to converge, increase the number of iterations.\n",
      "  \"the number of iterations.\", ConvergenceWarning)\n"
     ]
    }
   ],
   "source": [
    "#Models experimentation\n",
    "\n",
    "models = [\n",
    "    LinearSVC(),\n",
    "    MultinomialNB(),\n",
    "    SGDClassifier(max_iter=1000, tol=1e-3)\n",
    "]\n",
    "\n",
    "CV = 5\n",
    "cv_df = pd.DataFrame(index=range(CV * len(models)))\n",
    "\n",
    "entries = []\n",
    "for model in models:\n",
    "    model_name = model.__class__.__name__\n",
    "    accuracies = cross_val_score(model, vector_content, y, scoring='accuracy', cv=CV)\n",
    "    for fold_idx, accuracy in enumerate(accuracies):\n",
    "        entries.append((model_name, fold_idx, accuracy))\n",
    "cv_df = pd.DataFrame(entries, columns=['model_name', 'fold_idx', 'accuracy'])"
   ]
  },
  {
   "cell_type": "code",
   "execution_count": 15,
   "metadata": {},
   "outputs": [
    {
     "data": {
      "text/html": [
       "<div>\n",
       "<style scoped>\n",
       "    .dataframe tbody tr th:only-of-type {\n",
       "        vertical-align: middle;\n",
       "    }\n",
       "\n",
       "    .dataframe tbody tr th {\n",
       "        vertical-align: top;\n",
       "    }\n",
       "\n",
       "    .dataframe thead th {\n",
       "        text-align: right;\n",
       "    }\n",
       "</style>\n",
       "<table border=\"1\" class=\"dataframe\">\n",
       "  <thead>\n",
       "    <tr style=\"text-align: right;\">\n",
       "      <th></th>\n",
       "      <th>Mean Accuracy</th>\n",
       "      <th>Standard deviation</th>\n",
       "    </tr>\n",
       "    <tr>\n",
       "      <th>model_name</th>\n",
       "      <th></th>\n",
       "      <th></th>\n",
       "    </tr>\n",
       "  </thead>\n",
       "  <tbody>\n",
       "    <tr>\n",
       "      <th>LinearSVC</th>\n",
       "      <td>0.849957</td>\n",
       "      <td>0.002511</td>\n",
       "    </tr>\n",
       "    <tr>\n",
       "      <th>MultinomialNB</th>\n",
       "      <td>0.681181</td>\n",
       "      <td>0.002016</td>\n",
       "    </tr>\n",
       "    <tr>\n",
       "      <th>SGDClassifier</th>\n",
       "      <td>0.843068</td>\n",
       "      <td>0.006915</td>\n",
       "    </tr>\n",
       "  </tbody>\n",
       "</table>\n",
       "</div>"
      ],
      "text/plain": [
       "               Mean Accuracy  Standard deviation\n",
       "model_name                                      \n",
       "LinearSVC           0.849957            0.002511\n",
       "MultinomialNB       0.681181            0.002016\n",
       "SGDClassifier       0.843068            0.006915"
      ]
     },
     "execution_count": 15,
     "metadata": {},
     "output_type": "execute_result"
    }
   ],
   "source": [
    "mean_accuracy = cv_df.groupby('model_name').accuracy.mean()\n",
    "std_accuracy = cv_df.groupby('model_name').accuracy.std()\n",
    "\n",
    "acc = pd.concat([mean_accuracy, std_accuracy], axis= 1, \n",
    "          ignore_index=True)\n",
    "acc.columns = ['Mean Accuracy', 'Standard deviation']\n",
    "acc"
   ]
  },
  {
   "cell_type": "code",
   "execution_count": null,
   "metadata": {},
   "outputs": [],
   "source": []
  },
  {
   "cell_type": "code",
   "execution_count": null,
   "metadata": {},
   "outputs": [],
   "source": []
  }
 ],
 "metadata": {
  "kernelspec": {
   "display_name": "Python 3",
   "language": "python",
   "name": "python3"
  },
  "language_info": {
   "codemirror_mode": {
    "name": "ipython",
    "version": 3
   },
   "file_extension": ".py",
   "mimetype": "text/x-python",
   "name": "python",
   "nbconvert_exporter": "python",
   "pygments_lexer": "ipython3",
   "version": "3.7.2"
  }
 },
 "nbformat": 4,
 "nbformat_minor": 2
}
